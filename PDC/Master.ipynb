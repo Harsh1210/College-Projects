{
 "cells": [
  {
   "cell_type": "code",
   "execution_count": 3,
   "metadata": {},
   "outputs": [
    {
     "ename": "ModuleNotFoundError",
     "evalue": "No module named 'worker2'",
     "output_type": "error",
     "traceback": [
      "\u001b[0;31m---------------------------------------------------------------------------\u001b[0m",
      "\u001b[0;31mModuleNotFoundError\u001b[0m                       Traceback (most recent call last)",
      "\u001b[0;32m<ipython-input-3-802415a79519>\u001b[0m in \u001b[0;36m<module>\u001b[0;34m\u001b[0m\n\u001b[1;32m      6\u001b[0m \u001b[0;31m##import worker1\u001b[0m\u001b[0;34m\u001b[0m\u001b[0;34m\u001b[0m\u001b[0;34m\u001b[0m\u001b[0m\n\u001b[1;32m      7\u001b[0m \u001b[0;32mimport\u001b[0m \u001b[0msocket\u001b[0m\u001b[0;34m\u001b[0m\u001b[0;34m\u001b[0m\u001b[0m\n\u001b[0;32m----> 8\u001b[0;31m \u001b[0;32mimport\u001b[0m \u001b[0mworker2\u001b[0m\u001b[0;34m\u001b[0m\u001b[0;34m\u001b[0m\u001b[0m\n\u001b[0m",
      "\u001b[0;31mModuleNotFoundError\u001b[0m: No module named 'worker2'"
     ]
    }
   ],
   "source": [
    "import re\n",
    "from nltk.corpus import stopwords ##importing nltk packages\n",
    "import json                       ##importing jason package\n",
    "import time\n",
    "##import Worker                     ##importing necessary directories\n",
    "##import worker1 \n",
    "import socket\n",
    "import worker2"
   ]
  },
  {
   "cell_type": "code",
   "execution_count": 17,
   "metadata": {},
   "outputs": [],
   "source": [
    "stopWords = set(stopwords.words('english')) ## storing existing stopwords in set data structure.\n",
    "specialChar = \"~`!@#$%^&*()_+={}[]|\\\\:;\\'\\\"<>?/.,\"  \n",
    "urlRE = re.compile(\"http\")\n",
    "fileName = \"Dataset/d\" ## location of file\n",
    "for i in range(1, 12): \n",
    "    dct = dict()\n",
    "    c = 0\n",
    "    with open(fileName+str(i)+\".txt\", errors=\"ignore\") as f: ## opening files one by one\n",
    "        for lines in f: ## loop for removing special character, whitespaces or other unnecessary data from the set.\n",
    "            lines = lines.strip().split('|') \n",
    "            lines = lines[0].split()\n",
    "            wrds = []\n",
    "            for phrase in  lines: \n",
    "                phrase = phrase.lower()\n",
    "                phrase = phrase.rstrip(\"'s\") \n",
    "                chars = list(phrase)\n",
    "                phrase = \"\"\n",
    "                for ch in chars:\n",
    "                    if ch not in specialChar: \n",
    "                        phrase+=ch\n",
    "                if urlRE.match(phrase) == None and phrase!=\"-\" and phrase not in stopWords and phrase not in specialChar:\n",
    "                    try:\n",
    "                        phrase.encode('ascii') \n",
    "                        if phrase!=\"\":\n",
    "                            wrds.append(phrase)\n",
    "                    except:\n",
    "                        continue \n",
    "            if wrds!=[]:\n",
    "                dct.update({c: wrds}) \n",
    "                c+=1\n",
    "    data = {\"data\": dct}\n",
    "    with open(\"d\"+str(i)+\"_output.json\", 'w') as outfile: ## creating a new json file with key-value pairs of keys as numbers and values as stopwords of each tweet.\n",
    "        json.dump(data, outfile)\n"
   ]
  },
  {
   "cell_type": "code",
   "execution_count": 18,
   "metadata": {},
   "outputs": [
    {
     "name": "stdout",
     "output_type": "stream",
     "text": [
      "3929\n",
      "3741\n",
      "4215\n",
      "4061\n",
      "3239\n",
      "2000\n",
      "2997\n",
      "7864\n",
      "3509\n",
      "4171\n",
      "3199\n",
      "Doc: 1 ==> 0.397\n",
      "Doc: 2 ==> 0.313\n",
      "Doc: 3 ==> 0.732\n",
      "Doc: 4 ==> 0.361\n",
      "Doc: 5 ==> 0.214\n",
      "Doc: 6 ==> 0.088\n",
      "Doc: 7 ==> 0.188\n",
      "Doc: 8 ==> 1.944\n",
      "Doc: 9 ==> 0.246\n",
      "Doc: 10 ==> 0.383\n",
      "Doc: 11 ==> 0.212\n"
     ]
    }
   ],
   "source": [
    "timeList = [] ## storing time taken for each file in an array.\n",
    "\n",
    "for i in range(1, 12): ## using iterations opening each file.\n",
    "    with open('d'+str(i)+'_output.json', 'r') as f: \n",
    "        dataset = json.load(f)\n",
    "    data = dataset[\"data\"] ## taking only values stored in “data” attribute\n",
    "    lines = len(data) ## length of data\n",
    "    wrds = []\n",
    "    start = time.time() \n",
    "    dct = dict()\n",
    "    for j in range(lines): ## iterating all lines\n",
    "        wrds += data[str(j)] ## storing all words in an array\n",
    "    s = set(wrds) \n",
    "    for w in s:\n",
    "        dct[w] = wrds.count(w)\n",
    "    end = time.time()\n",
    "    timeList.append(round(end-start, 3)) \n",
    "    print(len(dct))\n",
    "\n",
    "for i in range(11):\n",
    "    print(\"Doc:\", i+1, \"==>\", timeList[i]) ## printing the time taken for each file\n"
   ]
  },
  {
   "cell_type": "code",
   "execution_count": 75,
   "metadata": {},
   "outputs": [
    {
     "ename": "AttributeError",
     "evalue": "'Server' object has no attribute 'setsockopt'",
     "output_type": "error",
     "traceback": [
      "\u001b[0;31m---------------------------------------------------------------------------\u001b[0m",
      "\u001b[0;31mAttributeError\u001b[0m                            Traceback (most recent call last)",
      "\u001b[0;32m<ipython-input-75-2e99defc97bd>\u001b[0m in \u001b[0;36m<module>\u001b[0;34m\u001b[0m\n\u001b[1;32m     22\u001b[0m     \u001b[0ms\u001b[0m\u001b[0;34m.\u001b[0m\u001b[0m_datasource\u001b[0m \u001b[0;34m=\u001b[0m \u001b[0m_datasource\u001b[0m\u001b[0;34m\u001b[0m\u001b[0;34m\u001b[0m\u001b[0m\n\u001b[1;32m     23\u001b[0m     \u001b[0mstart\u001b[0m \u001b[0;34m=\u001b[0m \u001b[0mtime\u001b[0m\u001b[0;34m.\u001b[0m\u001b[0mtime\u001b[0m\u001b[0;34m(\u001b[0m\u001b[0;34m)\u001b[0m\u001b[0;34m\u001b[0m\u001b[0;34m\u001b[0m\u001b[0m\n\u001b[0;32m---> 24\u001b[0;31m     \u001b[0mresults\u001b[0m \u001b[0;34m=\u001b[0m \u001b[0ms\u001b[0m\u001b[0;34m.\u001b[0m\u001b[0mrun_server\u001b[0m\u001b[0;34m(\u001b[0m\u001b[0mpassword\u001b[0m\u001b[0;34m=\u001b[0m\u001b[0;34m\"scorpion11\"\u001b[0m\u001b[0;34m)\u001b[0m\u001b[0;34m\u001b[0m\u001b[0;34m\u001b[0m\u001b[0m\n\u001b[0m\u001b[1;32m     25\u001b[0m     \u001b[0mend\u001b[0m \u001b[0;34m=\u001b[0m \u001b[0mtime\u001b[0m\u001b[0;34m.\u001b[0m\u001b[0mtime\u001b[0m\u001b[0;34m(\u001b[0m\u001b[0;34m)\u001b[0m\u001b[0;34m\u001b[0m\u001b[0;34m\u001b[0m\u001b[0m\n\u001b[1;32m     26\u001b[0m     \u001b[0mtimeList\u001b[0m\u001b[0;34m.\u001b[0m\u001b[0mappend\u001b[0m\u001b[0;34m(\u001b[0m\u001b[0mround\u001b[0m\u001b[0;34m(\u001b[0m\u001b[0mend\u001b[0m\u001b[0;34m-\u001b[0m\u001b[0mstart\u001b[0m\u001b[0;34m,\u001b[0m \u001b[0;36m3\u001b[0m\u001b[0;34m)\u001b[0m\u001b[0;34m)\u001b[0m\u001b[0;34m\u001b[0m\u001b[0;34m\u001b[0m\u001b[0m\n",
      "\u001b[0;32m~/Desktop/PDC/worker.ipynb\u001b[0m in \u001b[0;36mrun_server\u001b[0;34m(self, password, port)\u001b[0m\n",
      "\u001b[0;31mAttributeError\u001b[0m: 'Server' object has no attribute 'setsockopt'"
     ]
    }
   ],
   "source": [
    "# The data source can be any dictionary-like object \n",
    "#datasource = dict(enumerate(data))\n",
    "\n",
    "def mapfn(k, v): ## function for mapping\n",
    "    for w in v:\n",
    "        yield w, 1\n",
    "\n",
    "def reducefn(k, vs): ## function for reducing\n",
    "    result = sum(vs)\n",
    "    return result\n",
    "\n",
    "s = worker.Server() ## Connecting the Server\n",
    "s.mapfn = mapfn \n",
    "s.reducefn = reducefn\n",
    "\n",
    "timeList = []\n",
    "\n",
    "for i in range(1, 8):\n",
    "    with open('d'+str(i)+'_output.json', 'r') as f: \n",
    "        dataset = json.load(f)\n",
    "    _datasource = dataset['data'] \n",
    "    s._datasource = _datasource \n",
    "    start = time.time()\n",
    "    results = s.run_server(password=\"scorpion11\") \n",
    "    end = time.time()\n",
    "    timeList.append(round(end-start, 3)) \n",
    "    print(len(results))\n",
    "    with open('MR_Output/d'+str(i)+'_ansOfMapReduce.txt', 'w') as f: \n",
    "        for keys in sorted(results):\n",
    "            line = keys+\"\\t\\t\\t\"+str(results[keys])+\"\\n\" \n",
    "            f.write(line)\n",
    "\n",
    "for i in range(1, 8): \n",
    "    print(\"Doc:\", i, timeList[i-1])"
   ]
  },
  {
   "cell_type": "code",
   "execution_count": null,
   "metadata": {},
   "outputs": [],
   "source": []
  },
  {
   "cell_type": "code",
   "execution_count": null,
   "metadata": {},
   "outputs": [],
   "source": []
  }
 ],
 "metadata": {
  "kernelspec": {
   "display_name": "Python 3",
   "language": "python",
   "name": "python3"
  },
  "language_info": {
   "codemirror_mode": {
    "name": "ipython",
    "version": 3
   },
   "file_extension": ".py",
   "mimetype": "text/x-python",
   "name": "python",
   "nbconvert_exporter": "python",
   "pygments_lexer": "ipython3",
   "version": "3.7.6"
  }
 },
 "nbformat": 4,
 "nbformat_minor": 4
}
