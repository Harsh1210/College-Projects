{
 "cells": [
  {
   "cell_type": "code",
   "execution_count": 3,
   "metadata": {},
   "outputs": [
    {
     "name": "stdout",
     "output_type": "stream",
     "text": [
      "importing Jupyter notebook from worker.ipynb\n"
     ]
    }
   ],
   "source": [
    "import re\n",
    "import import_ipynb\n",
    "from nltk.corpus import stopwords ##importing nltk packages\n",
    "import json                       ##importing jason package\n",
    "import time\n",
    "##import Worker                     ##importing necessary directories\n",
    "##import worker1 \n",
    "import socket\n",
    "import worker"
   ]
  },
  {
   "cell_type": "code",
   "execution_count": 4,
   "metadata": {},
   "outputs": [
    {
     "ename": "AttributeError",
     "evalue": "'Server' object has no attribute 'close_all'",
     "output_type": "error",
     "traceback": [
      "\u001b[0;31m---------------------------------------------------------------------------\u001b[0m",
      "\u001b[0;31mAttributeError\u001b[0m                            Traceback (most recent call last)",
      "\u001b[0;32m~/Desktop/PDC/worker.ipynb\u001b[0m in \u001b[0;36mrun_server\u001b[0;34m(self, password, port)\u001b[0m\n",
      "\u001b[0;31mAttributeError\u001b[0m: 'Server' object has no attribute 'socket_map'",
      "\nDuring handling of the above exception, another exception occurred:\n",
      "\u001b[0;31mAttributeError\u001b[0m                            Traceback (most recent call last)",
      "\u001b[0;32m<ipython-input-4-2e99defc97bd>\u001b[0m in \u001b[0;36m<module>\u001b[0;34m\u001b[0m\n\u001b[1;32m     22\u001b[0m     \u001b[0ms\u001b[0m\u001b[0;34m.\u001b[0m\u001b[0m_datasource\u001b[0m \u001b[0;34m=\u001b[0m \u001b[0m_datasource\u001b[0m\u001b[0;34m\u001b[0m\u001b[0;34m\u001b[0m\u001b[0m\n\u001b[1;32m     23\u001b[0m     \u001b[0mstart\u001b[0m \u001b[0;34m=\u001b[0m \u001b[0mtime\u001b[0m\u001b[0;34m.\u001b[0m\u001b[0mtime\u001b[0m\u001b[0;34m(\u001b[0m\u001b[0;34m)\u001b[0m\u001b[0;34m\u001b[0m\u001b[0;34m\u001b[0m\u001b[0m\n\u001b[0;32m---> 24\u001b[0;31m     \u001b[0mresults\u001b[0m \u001b[0;34m=\u001b[0m \u001b[0ms\u001b[0m\u001b[0;34m.\u001b[0m\u001b[0mrun_server\u001b[0m\u001b[0;34m(\u001b[0m\u001b[0mpassword\u001b[0m\u001b[0;34m=\u001b[0m\u001b[0;34m\"scorpion11\"\u001b[0m\u001b[0;34m)\u001b[0m\u001b[0;34m\u001b[0m\u001b[0;34m\u001b[0m\u001b[0m\n\u001b[0m\u001b[1;32m     25\u001b[0m     \u001b[0mend\u001b[0m \u001b[0;34m=\u001b[0m \u001b[0mtime\u001b[0m\u001b[0;34m.\u001b[0m\u001b[0mtime\u001b[0m\u001b[0;34m(\u001b[0m\u001b[0;34m)\u001b[0m\u001b[0;34m\u001b[0m\u001b[0;34m\u001b[0m\u001b[0m\n\u001b[1;32m     26\u001b[0m     \u001b[0mtimeList\u001b[0m\u001b[0;34m.\u001b[0m\u001b[0mappend\u001b[0m\u001b[0;34m(\u001b[0m\u001b[0mround\u001b[0m\u001b[0;34m(\u001b[0m\u001b[0mend\u001b[0m\u001b[0;34m-\u001b[0m\u001b[0mstart\u001b[0m\u001b[0;34m,\u001b[0m \u001b[0;36m3\u001b[0m\u001b[0;34m)\u001b[0m\u001b[0;34m)\u001b[0m\u001b[0;34m\u001b[0m\u001b[0;34m\u001b[0m\u001b[0m\n",
      "\u001b[0;32m~/Desktop/PDC/worker.ipynb\u001b[0m in \u001b[0;36mrun_server\u001b[0;34m(self, password, port)\u001b[0m\n",
      "\u001b[0;31mAttributeError\u001b[0m: 'Server' object has no attribute 'close_all'"
     ]
    }
   ],
   "source": [
    "# The data source can be any dictionary-like object \n",
    "#datasource = dict(enumerate(data))\n",
    "\n",
    "def mapfn(k, v): ## function for mapping\n",
    "    for w in v:\n",
    "        yield w, 1\n",
    "\n",
    "def reducefn(k, vs): ## function for reducing\n",
    "    result = sum(vs)\n",
    "    return result\n",
    "\n",
    "s = worker.Server() ## Connecting the Server\n",
    "s.mapfn = mapfn \n",
    "s.reducefn = reducefn\n",
    "\n",
    "timeList = []\n",
    "\n",
    "for i in range(1, 8):\n",
    "    with open('d'+str(i)+'_output.json', 'r') as f: \n",
    "        dataset = json.load(f)\n",
    "    _datasource = dataset['data'] \n",
    "    s._datasource = _datasource \n",
    "    start = time.time()\n",
    "    results = s.run_server(password=\"scorpion11\") \n",
    "    end = time.time()\n",
    "    timeList.append(round(end-start, 3)) \n",
    "    print(len(results))\n",
    "    with open('MR_Output/d'+str(i)+'_ansOfMapReduce.txt', 'w') as f: \n",
    "        for keys in sorted(results):\n",
    "            line = keys+\"\\t\\t\\t\"+str(results[keys])+\"\\n\" \n",
    "            f.write(line)\n",
    "\n",
    "for i in range(1, 8): \n",
    "    print(\"Doc:\", i, timeList[i-1])"
   ]
  },
  {
   "cell_type": "code",
   "execution_count": null,
   "metadata": {},
   "outputs": [],
   "source": []
  }
 ],
 "metadata": {
  "kernelspec": {
   "display_name": "Python 3",
   "language": "python",
   "name": "python3"
  },
  "language_info": {
   "codemirror_mode": {
    "name": "ipython",
    "version": 3
   },
   "file_extension": ".py",
   "mimetype": "text/x-python",
   "name": "python",
   "nbconvert_exporter": "python",
   "pygments_lexer": "ipython3",
   "version": "3.7.7"
  }
 },
 "nbformat": 4,
 "nbformat_minor": 4
}
